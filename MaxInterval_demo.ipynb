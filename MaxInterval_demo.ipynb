{
  "nbformat": 4,
  "nbformat_minor": 0,
  "metadata": {
    "colab": {
      "provenance": [],
      "mount_file_id": "1a6On6pbO2mkHv_MSNYpZwzrGKlSKUn33",
      "authorship_tag": "ABX9TyO4nmQnjEE3/xCxze8Fl9y8"
    },
    "kernelspec": {
      "name": "python3",
      "display_name": "Python 3"
    },
    "language_info": {
      "name": "python"
    }
  },
  "cells": [
    {
      "cell_type": "markdown",
      "source": [
        "## Import libraries"
      ],
      "metadata": {
        "id": "S_NJHeZkJzSR"
      }
    },
    {
      "cell_type": "code",
      "execution_count": null,
      "metadata": {
        "id": "5IOnMdVrZL2T"
      },
      "outputs": [],
      "source": [
        "import numpy as np\n",
        "import pandas as pd\n",
        "import matplotlib.pyplot as plt\n",
        "from matplotlib.patches import Rectangle"
      ]
    },
    {
      "cell_type": "markdown",
      "source": [
        "## Load data"
      ],
      "metadata": {
        "id": "4DKgZhPbJ5Ia"
      }
    },
    {
      "cell_type": "code",
      "source": [
        "spiketrain = pd.read_csv(\"/content/drive/MyDrive/spiketrain_example.csv\")"
      ],
      "metadata": {
        "id": "VN9cSmX0ZOX7"
      },
      "execution_count": null,
      "outputs": []
    },
    {
      "cell_type": "code",
      "source": [
        "spiketrain.head()"
      ],
      "metadata": {
        "colab": {
          "base_uri": "https://localhost:8080/",
          "height": 204
        },
        "id": "RuIAqHPrh1H5",
        "outputId": "82daf668-9bf7-4e30-ad52-6fda0dba718c"
      },
      "execution_count": null,
      "outputs": [
        {
          "output_type": "execute_result",
          "data": {
            "text/plain": [
              "   Unnamed: 0  Time (s)\n",
              "0           0   1.35040\n",
              "1           1   1.52336\n",
              "2           2   1.56696\n",
              "3           3   2.59712\n",
              "4           4   2.74472"
            ],
            "text/html": [
              "\n",
              "  <div id=\"df-1fc34cf2-9f6c-4164-9d6d-5f70a8d01c2b\">\n",
              "    <div class=\"colab-df-container\">\n",
              "      <div>\n",
              "<style scoped>\n",
              "    .dataframe tbody tr th:only-of-type {\n",
              "        vertical-align: middle;\n",
              "    }\n",
              "\n",
              "    .dataframe tbody tr th {\n",
              "        vertical-align: top;\n",
              "    }\n",
              "\n",
              "    .dataframe thead th {\n",
              "        text-align: right;\n",
              "    }\n",
              "</style>\n",
              "<table border=\"1\" class=\"dataframe\">\n",
              "  <thead>\n",
              "    <tr style=\"text-align: right;\">\n",
              "      <th></th>\n",
              "      <th>Unnamed: 0</th>\n",
              "      <th>Time (s)</th>\n",
              "    </tr>\n",
              "  </thead>\n",
              "  <tbody>\n",
              "    <tr>\n",
              "      <th>0</th>\n",
              "      <td>0</td>\n",
              "      <td>1.35040</td>\n",
              "    </tr>\n",
              "    <tr>\n",
              "      <th>1</th>\n",
              "      <td>1</td>\n",
              "      <td>1.52336</td>\n",
              "    </tr>\n",
              "    <tr>\n",
              "      <th>2</th>\n",
              "      <td>2</td>\n",
              "      <td>1.56696</td>\n",
              "    </tr>\n",
              "    <tr>\n",
              "      <th>3</th>\n",
              "      <td>3</td>\n",
              "      <td>2.59712</td>\n",
              "    </tr>\n",
              "    <tr>\n",
              "      <th>4</th>\n",
              "      <td>4</td>\n",
              "      <td>2.74472</td>\n",
              "    </tr>\n",
              "  </tbody>\n",
              "</table>\n",
              "</div>\n",
              "      <button class=\"colab-df-convert\" onclick=\"convertToInteractive('df-1fc34cf2-9f6c-4164-9d6d-5f70a8d01c2b')\"\n",
              "              title=\"Convert this dataframe to an interactive table.\"\n",
              "              style=\"display:none;\">\n",
              "        \n",
              "  <svg xmlns=\"http://www.w3.org/2000/svg\" height=\"24px\"viewBox=\"0 0 24 24\"\n",
              "       width=\"24px\">\n",
              "    <path d=\"M0 0h24v24H0V0z\" fill=\"none\"/>\n",
              "    <path d=\"M18.56 5.44l.94 2.06.94-2.06 2.06-.94-2.06-.94-.94-2.06-.94 2.06-2.06.94zm-11 1L8.5 8.5l.94-2.06 2.06-.94-2.06-.94L8.5 2.5l-.94 2.06-2.06.94zm10 10l.94 2.06.94-2.06 2.06-.94-2.06-.94-.94-2.06-.94 2.06-2.06.94z\"/><path d=\"M17.41 7.96l-1.37-1.37c-.4-.4-.92-.59-1.43-.59-.52 0-1.04.2-1.43.59L10.3 9.45l-7.72 7.72c-.78.78-.78 2.05 0 2.83L4 21.41c.39.39.9.59 1.41.59.51 0 1.02-.2 1.41-.59l7.78-7.78 2.81-2.81c.8-.78.8-2.07 0-2.86zM5.41 20L4 18.59l7.72-7.72 1.47 1.35L5.41 20z\"/>\n",
              "  </svg>\n",
              "      </button>\n",
              "      \n",
              "  <style>\n",
              "    .colab-df-container {\n",
              "      display:flex;\n",
              "      flex-wrap:wrap;\n",
              "      gap: 12px;\n",
              "    }\n",
              "\n",
              "    .colab-df-convert {\n",
              "      background-color: #E8F0FE;\n",
              "      border: none;\n",
              "      border-radius: 50%;\n",
              "      cursor: pointer;\n",
              "      display: none;\n",
              "      fill: #1967D2;\n",
              "      height: 32px;\n",
              "      padding: 0 0 0 0;\n",
              "      width: 32px;\n",
              "    }\n",
              "\n",
              "    .colab-df-convert:hover {\n",
              "      background-color: #E2EBFA;\n",
              "      box-shadow: 0px 1px 2px rgba(60, 64, 67, 0.3), 0px 1px 3px 1px rgba(60, 64, 67, 0.15);\n",
              "      fill: #174EA6;\n",
              "    }\n",
              "\n",
              "    [theme=dark] .colab-df-convert {\n",
              "      background-color: #3B4455;\n",
              "      fill: #D2E3FC;\n",
              "    }\n",
              "\n",
              "    [theme=dark] .colab-df-convert:hover {\n",
              "      background-color: #434B5C;\n",
              "      box-shadow: 0px 1px 3px 1px rgba(0, 0, 0, 0.15);\n",
              "      filter: drop-shadow(0px 1px 2px rgba(0, 0, 0, 0.3));\n",
              "      fill: #FFFFFF;\n",
              "    }\n",
              "  </style>\n",
              "\n",
              "      <script>\n",
              "        const buttonEl =\n",
              "          document.querySelector('#df-1fc34cf2-9f6c-4164-9d6d-5f70a8d01c2b button.colab-df-convert');\n",
              "        buttonEl.style.display =\n",
              "          google.colab.kernel.accessAllowed ? 'block' : 'none';\n",
              "\n",
              "        async function convertToInteractive(key) {\n",
              "          const element = document.querySelector('#df-1fc34cf2-9f6c-4164-9d6d-5f70a8d01c2b');\n",
              "          const dataTable =\n",
              "            await google.colab.kernel.invokeFunction('convertToInteractive',\n",
              "                                                     [key], {});\n",
              "          if (!dataTable) return;\n",
              "\n",
              "          const docLinkHtml = 'Like what you see? Visit the ' +\n",
              "            '<a target=\"_blank\" href=https://colab.research.google.com/notebooks/data_table.ipynb>data table notebook</a>'\n",
              "            + ' to learn more about interactive tables.';\n",
              "          element.innerHTML = '';\n",
              "          dataTable['output_type'] = 'display_data';\n",
              "          await google.colab.output.renderOutput(dataTable, element);\n",
              "          const docLink = document.createElement('div');\n",
              "          docLink.innerHTML = docLinkHtml;\n",
              "          element.appendChild(docLink);\n",
              "        }\n",
              "      </script>\n",
              "    </div>\n",
              "  </div>\n",
              "  "
            ]
          },
          "metadata": {},
          "execution_count": 6
        }
      ]
    },
    {
      "cell_type": "markdown",
      "source": [
        "## Visualize data\n",
        "Data are spike times of action potentials detected by a single electrode."
      ],
      "metadata": {
        "id": "j-h3vWwaJ9WN"
      }
    },
    {
      "cell_type": "code",
      "source": [
        "f = plt.figure(figsize=(20, 8), constrained_layout=False)\n",
        "grid = f.add_gridspec(2, 3)\n",
        "plt.subplot(grid[0,0:3])\n",
        "plt.eventplot(spiketrain[\"Time (s)\"], color='black', linelengths=0.5, linewidths=0.75, alpha=0.35)\n",
        "plt.ylabel(\"Channel\")\n",
        "\n",
        "plt.subplot(grid[1,0:3])\n",
        "plt.eventplot(spiketrain[\"Time (s)\"], color='black', linelengths=0.5, linewidths=0.75, alpha=0.35)\n",
        "plt.xlabel(\"Time (s)\")\n",
        "plt.ylabel(\"Channel\")\n",
        "plt.xlim([210,250])"
      ],
      "metadata": {
        "colab": {
          "base_uri": "https://localhost:8080/",
          "height": 713
        },
        "id": "GCpyhMQXiDu0",
        "outputId": "f2e14cb1-1d24-4a33-8d50-36c28fbc2aee"
      },
      "execution_count": null,
      "outputs": [
        {
          "output_type": "execute_result",
          "data": {
            "text/plain": [
              "(210.0, 250.0)"
            ]
          },
          "metadata": {},
          "execution_count": 33
        },
        {
          "output_type": "display_data",
          "data": {
            "text/plain": [
              "<Figure size 2000x800 with 2 Axes>"
            ],
            "image/png": "[encoded data removed]"
          },
          "metadata": {}
        }
      ]
    },
    {
      "cell_type": "markdown",
      "source": [
        "## Max Interval Burst Detection\n",
        "A Python- based Max Interval (MI) burst detection algorithm was created to identify individual bursts. MI is a fixed threshold-based method for identifying bursts that uses five fixed threshold parameters (maximum ISI at start of the burst, maximum ISI in burst, minimum burst duration, minimum IBI, and minimum number of spikes within burst) to identify, merge, and exclude potential bursts. The values for these parameters are chosen a priori."
      ],
      "metadata": {
        "id": "-_TAIKCtKHGR"
      }
    },
    {
      "cell_type": "code",
      "source": [
        "def maxInterval(spiketrain, max_begin_ISI=0.17, max_end_ISI=0.3, min_IBI=0.2, min_burst_duration=0.01,\n",
        "                min_spikes_in_burst=3):\n",
        "    allBurstData = {}\n",
        "\n",
        "    '''\n",
        "    Phase 1 - Burst Detection\n",
        "    Here a burst is defined as starting when two consecutive spikes have an\n",
        "    ISI less than max_begin_ISI apart. The end of the burst is given when two\n",
        "    spikes have an ISI greater than max_end_ISI.\n",
        "    Find ISIs closer than max_begin_ISI and end with max_end_ISI.\n",
        "    The last spike of the previous burst will be used to calculate the IBI.\n",
        "    For the first burst, there is no previous IBI.\n",
        "    '''\n",
        "    inBurst = False\n",
        "    burstNum = 0\n",
        "    currentBurst = []\n",
        "    for n in range(1, len(spiketrain)):\n",
        "        ISI = spiketrain[n] - spiketrain[n - 1]\n",
        "        if inBurst:\n",
        "            if ISI > max_end_ISI:  # end the burst\n",
        "                currentBurst = np.append(currentBurst, spiketrain[n - 1])\n",
        "                allBurstData[burstNum] = currentBurst\n",
        "                currentBurst = []\n",
        "                burstNum += 1\n",
        "                inBurst = False\n",
        "            elif (ISI < max_end_ISI) & (n == len(spiketrain) - 1):\n",
        "                currentBurst = np.append(currentBurst, spiketrain[n])\n",
        "                allBurstData[burstNum] = currentBurst\n",
        "                burstNum += 1\n",
        "            else:\n",
        "                currentBurst = np.append(currentBurst, spiketrain[n - 1])\n",
        "        else:\n",
        "            if ISI < max_begin_ISI:\n",
        "                currentBurst = np.append(currentBurst, spiketrain[n - 1])\n",
        "                inBurst = True\n",
        "    # Calculate IBIs\n",
        "    IBI = []\n",
        "    for b in range(1, burstNum):\n",
        "        prevBurstEnd = allBurstData[b - 1][-1]\n",
        "        currBurstBeg = allBurstData[b][0]\n",
        "        IBI = np.append(IBI, (currBurstBeg - prevBurstEnd))\n",
        "\n",
        "    '''\n",
        "    Phase 2 - Merging of Bursts\n",
        "    Here we see if any pair of bursts have an IBI less than min_IBI; if so,\n",
        "    we then merge the bursts. We specifically need to check when say three\n",
        "    bursts are merged into one.\n",
        "    '''\n",
        "    tmp = allBurstData\n",
        "    allBurstData = {}\n",
        "    burstNum = 0\n",
        "    for b in range(1, len(tmp)):\n",
        "        prevBurst = tmp[b - 1]\n",
        "        currBurst = tmp[b]\n",
        "        if IBI[b - 1] < min_IBI:\n",
        "            prevBurst = np.append(prevBurst, currBurst)\n",
        "        allBurstData[burstNum] = prevBurst\n",
        "        burstNum += 1\n",
        "    if burstNum >= 2:\n",
        "        allBurstData[burstNum] = currBurst\n",
        "\n",
        "    '''\n",
        "    Phase 3 - Quality Control\n",
        "    Remove small bursts less than min_bursts_duration or having too few\n",
        "    spikes less than min_spikes_in_bursts. In this phase we have the\n",
        "    possibility of deleting all spikes.\n",
        "    '''\n",
        "    tooShort = 0\n",
        "    tmp = allBurstData\n",
        "    allBurstData = {}\n",
        "    burstNum = 0\n",
        "    if len(tmp) > 1:\n",
        "        for b in range(len(tmp)):\n",
        "            currBurst = tmp[b]\n",
        "            if len(currBurst) <= min_spikes_in_burst:\n",
        "                tooShort +=1\n",
        "            elif currBurst[-1] - currBurst[0] <= min_burst_duration:\n",
        "                tooShort += 1\n",
        "            else:\n",
        "                allBurstData[burstNum] = currBurst\n",
        "                burstNum += 1\n",
        "\n",
        "    return allBurstData, tooShort\n",
        "\n"
      ],
      "metadata": {
        "id": "_DXeDo_pZOf-"
      },
      "execution_count": null,
      "outputs": []
    },
    {
      "cell_type": "markdown",
      "source": [
        "## Detect Bursts"
      ],
      "metadata": {
        "id": "9XyT46WFKogQ"
      }
    },
    {
      "cell_type": "code",
      "source": [
        "allBurstData, _ = maxInterval(spiketrain[\"Time (s)\"].values)"
      ],
      "metadata": {
        "id": "p_rnVONOkKIt"
      },
      "execution_count": null,
      "outputs": []
    },
    {
      "cell_type": "code",
      "source": [
        "print(f\"MaxInterval detected {len(allBurstData)} bursts.\")"
      ],
      "metadata": {
        "colab": {
          "base_uri": "https://localhost:8080/"
        },
        "id": "hCCixZZ2ke8u",
        "outputId": "12de7f90-026a-4a0a-978f-87368948c932"
      },
      "execution_count": null,
      "outputs": [
        {
          "output_type": "stream",
          "name": "stdout",
          "text": [
            "MaxInterval detected 35 bursts.\n"
          ]
        }
      ]
    },
    {
      "cell_type": "markdown",
      "source": [
        "## Plot the results"
      ],
      "metadata": {
        "id": "RRv-KFXkKr96"
      }
    },
    {
      "cell_type": "code",
      "source": [
        "f = plt.figure(figsize=(20, 8), constrained_layout=False)\n",
        "grid = f.add_gridspec(2, 3)\n",
        "plt.subplot(grid[0,0:3])\n",
        "plt.eventplot(spiketrain[\"Time (s)\"], color='black', linelengths=0.5, linewidths=0.75, alpha=0.25)\n",
        "for b in allBurstData:\n",
        "    burst_start = allBurstData[b][0]\n",
        "    burst_duration = allBurstData[b][-1]-burst_start\n",
        "    rect = Rectangle((burst_start, 0.7), burst_duration, 0.6, alpha=0.5, edgecolor='turquoise', facecolor='turquoise')\n",
        "    plt.gca().add_patch(rect)\n",
        "plt.ylabel(\"Channel\")\n",
        "\n",
        "plt.subplot(grid[1,0:3])\n",
        "plt.eventplot(spiketrain[\"Time (s)\"], color='black', linelengths=0.5, linewidths=0.75, alpha=0.25)\n",
        "for b in allBurstData:\n",
        "    burst_start = allBurstData[b][0]\n",
        "    burst_duration = allBurstData[b][-1]-burst_start\n",
        "    rect = Rectangle((burst_start, 0.7), burst_duration, 0.6, alpha=0.5, edgecolor='turquoise', facecolor='turquoise')\n",
        "    plt.gca().add_patch(rect)\n",
        "plt.xlabel(\"Time (s)\")\n",
        "plt.ylabel(\"Channel\")\n",
        "plt.xlim([210,250])"
      ],
      "metadata": {
        "colab": {
          "base_uri": "https://localhost:8080/",
          "height": 713
        },
        "id": "_fTpdbz0kq9T",
        "outputId": "f79748c8-bf1e-4fef-aaba-da957373aef2"
      },
      "execution_count": null,
      "outputs": [
        {
          "output_type": "execute_result",
          "data": {
            "text/plain": [
              "(210.0, 250.0)"
            ]
          },
          "metadata": {},
          "execution_count": 46
        },
        {
          "output_type": "display_data",
          "data": {
            "text/plain": [
              "<Figure size 2000x800 with 2 Axes>"
            ],
            "image/png": "[encoded data removed]"
          },
          "metadata": {}
        }
      ]
    },
    {
      "cell_type": "markdown",
      "source": [
        "\n",
        "## Calculate some basic burst features\n",
        "\n",
        "\n"
      ],
      "metadata": {
        "id": "ku7H_tJmlLK1"
      }
    },
    {
      "cell_type": "code",
      "source": [
        "# Inter-burst-interval\n",
        "ibi = []\n",
        "for b in range(len(allBurstData)-1):\n",
        "  ibi.append(allBurstData[b+1][0]-allBurstData[b][-1])\n",
        "\n",
        "# Burst duration\n",
        "duration = [allBurstData[b][-1]-allBurstData[b][0] for b in range(len(allBurstData))]"
      ],
      "metadata": {
        "id": "5TLOA8zHlJcW"
      },
      "execution_count": null,
      "outputs": []
    },
    {
      "cell_type": "code",
      "source": [
        "plt.hist(ibi, bins=20, color='black')\n",
        "plt.xlabel(\"Inter-burst-interval (s)\")\n",
        "plt.ylabel(\"Count\")"
      ],
      "metadata": {
        "colab": {
          "base_uri": "https://localhost:8080/",
          "height": 466
        },
        "id": "yegfrJ-hl-SS",
        "outputId": "70090bf3-fd32-436c-c0fd-7fbb0efd63a6"
      },
      "execution_count": null,
      "outputs": [
        {
          "output_type": "execute_result",
          "data": {
            "text/plain": [
              "Text(0, 0.5, 'Count')"
            ]
          },
          "metadata": {},
          "execution_count": 51
        },
        {
          "output_type": "display_data",
          "data": {
            "text/plain": [
              "<Figure size 640x480 with 1 Axes>"
            ],
            "image/png": "[encoded data removed]"
          },
          "metadata": {}
        }
      ]
    },
    {
      "cell_type": "code",
      "source": [
        "plt.hist(duration, bins=20, color='black')\n",
        "plt.xlabel(\"Burst duration (s)\")\n",
        "plt.ylabel(\"Count\")"
      ],
      "metadata": {
        "colab": {
          "base_uri": "https://localhost:8080/",
          "height": 466
        },
        "id": "jf8FCtIFmKTY",
        "outputId": "ab07a2d0-7e9b-4d24-face-9632bc78921f"
      },
      "execution_count": null,
      "outputs": [
        {
          "output_type": "execute_result",
          "data": {
            "text/plain": [
              "Text(0, 0.5, 'Count')"
            ]
          },
          "metadata": {},
          "execution_count": 52
        },
        {
          "output_type": "display_data",
          "data": {
            "text/plain": [
              "<Figure size 640x480 with 1 Axes>"
            ],
            "image/png": "[encoded data removed]"
          },
          "metadata": {}
        }
      ]
    }
  ]
}